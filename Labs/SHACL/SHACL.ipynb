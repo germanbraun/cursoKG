{
  "nbformat": 4,
  "nbformat_minor": 0,
  "metadata": {
    "colab": {
      "provenance": []
    },
    "kernelspec": {
      "name": "python3",
      "display_name": "Python 3"
    },
    "language_info": {
      "name": "python"
    }
  },
  "cells": [
    {
      "cell_type": "markdown",
      "source": [
        "Instalar dependencias"
      ],
      "metadata": {
        "id": "lAq6-n0mAdzU"
      }
    },
    {
      "cell_type": "code",
      "source": [
        "!pip install rdflib\n",
        "!pip install SPARQLWrapper\n",
        "!pip install pyshacl"
      ],
      "metadata": {
        "id": "KiLjBQGjAdhM",
        "colab": {
          "base_uri": "https://localhost:8080/"
        },
        "outputId": "83fa611e-90b9-44b3-9078-060f2d4e0198"
      },
      "execution_count": 1,
      "outputs": [
        {
          "output_type": "stream",
          "name": "stdout",
          "text": [
            "Collecting rdflib\n",
            "  Downloading rdflib-7.1.4-py3-none-any.whl.metadata (11 kB)\n",
            "Requirement already satisfied: pyparsing<4,>=2.1.0 in /usr/local/lib/python3.11/dist-packages (from rdflib) (3.2.3)\n",
            "Downloading rdflib-7.1.4-py3-none-any.whl (565 kB)\n",
            "\u001b[?25l   \u001b[90m━━━━━━━━━━━━━━━━━━━━━━━━━━━━━━━━━━━━━━━━\u001b[0m \u001b[32m0.0/565.1 kB\u001b[0m \u001b[31m?\u001b[0m eta \u001b[36m-:--:--\u001b[0m\r\u001b[2K   \u001b[90m━━━━━━━━━━━━━━━━━━━━━━━━━━━━━━━━━━━━━━━━\u001b[0m \u001b[32m565.1/565.1 kB\u001b[0m \u001b[31m18.6 MB/s\u001b[0m eta \u001b[36m0:00:00\u001b[0m\n",
            "\u001b[?25hInstalling collected packages: rdflib\n",
            "Successfully installed rdflib-7.1.4\n",
            "Collecting SPARQLWrapper\n",
            "  Downloading SPARQLWrapper-2.0.0-py3-none-any.whl.metadata (2.0 kB)\n",
            "Requirement already satisfied: rdflib>=6.1.1 in /usr/local/lib/python3.11/dist-packages (from SPARQLWrapper) (7.1.4)\n",
            "Requirement already satisfied: pyparsing<4,>=2.1.0 in /usr/local/lib/python3.11/dist-packages (from rdflib>=6.1.1->SPARQLWrapper) (3.2.3)\n",
            "Downloading SPARQLWrapper-2.0.0-py3-none-any.whl (28 kB)\n",
            "Installing collected packages: SPARQLWrapper\n",
            "Successfully installed SPARQLWrapper-2.0.0\n",
            "Collecting pyshacl\n",
            "  Downloading pyshacl-0.30.1-py3-none-any.whl.metadata (35 kB)\n",
            "Requirement already satisfied: importlib-metadata>6 in /usr/local/lib/python3.11/dist-packages (from pyshacl) (8.7.0)\n",
            "Collecting owlrl<8,>=7.1.2 (from pyshacl)\n",
            "  Downloading owlrl-7.1.3-py3-none-any.whl.metadata (3.6 kB)\n",
            "Requirement already satisfied: packaging>=21.3 in /usr/local/lib/python3.11/dist-packages (from pyshacl) (24.2)\n",
            "Requirement already satisfied: prettytable>=3.5.0 in /usr/local/lib/python3.11/dist-packages (from pyshacl) (3.16.0)\n",
            "Requirement already satisfied: rdflib!=7.1.2,<8.0,>=7.1.1 in /usr/local/lib/python3.11/dist-packages (from rdflib[html]!=7.1.2,<8.0,>=7.1.1->pyshacl) (7.1.4)\n",
            "Requirement already satisfied: zipp>=3.20 in /usr/local/lib/python3.11/dist-packages (from importlib-metadata>6->pyshacl) (3.21.0)\n",
            "Requirement already satisfied: wcwidth in /usr/local/lib/python3.11/dist-packages (from prettytable>=3.5.0->pyshacl) (0.2.13)\n",
            "Requirement already satisfied: pyparsing<4,>=2.1.0 in /usr/local/lib/python3.11/dist-packages (from rdflib!=7.1.2,<8.0,>=7.1.1->rdflib[html]!=7.1.2,<8.0,>=7.1.1->pyshacl) (3.2.3)\n",
            "Collecting html5rdf<2,>=1.2 (from rdflib[html]!=7.1.2,<8.0,>=7.1.1->pyshacl)\n",
            "  Downloading html5rdf-1.2.1-py2.py3-none-any.whl.metadata (7.5 kB)\n",
            "Downloading pyshacl-0.30.1-py3-none-any.whl (1.3 MB)\n",
            "\u001b[2K   \u001b[90m━━━━━━━━━━━━━━━━━━━━━━━━━━━━━━━━━━━━━━━━\u001b[0m \u001b[32m1.3/1.3 MB\u001b[0m \u001b[31m39.3 MB/s\u001b[0m eta \u001b[36m0:00:00\u001b[0m\n",
            "\u001b[?25hDownloading owlrl-7.1.3-py3-none-any.whl (51 kB)\n",
            "\u001b[2K   \u001b[90m━━━━━━━━━━━━━━━━━━━━━━━━━━━━━━━━━━━━━━━━\u001b[0m \u001b[32m51.9/51.9 kB\u001b[0m \u001b[31m2.3 MB/s\u001b[0m eta \u001b[36m0:00:00\u001b[0m\n",
            "\u001b[?25hDownloading html5rdf-1.2.1-py2.py3-none-any.whl (109 kB)\n",
            "\u001b[2K   \u001b[90m━━━━━━━━━━━━━━━━━━━━━━━━━━━━━━━━━━━━━━━━\u001b[0m \u001b[32m109.8/109.8 kB\u001b[0m \u001b[31m3.3 MB/s\u001b[0m eta \u001b[36m0:00:00\u001b[0m\n",
            "\u001b[?25hInstalling collected packages: html5rdf, owlrl, pyshacl\n",
            "Successfully installed html5rdf-1.2.1 owlrl-7.1.3 pyshacl-0.30.1\n"
          ]
        }
      ]
    },
    {
      "cell_type": "markdown",
      "source": [
        "Validar RDF usando SHACL"
      ],
      "metadata": {
        "id": "oR0LexHL9yri"
      }
    },
    {
      "cell_type": "code",
      "execution_count": 20,
      "metadata": {
        "id": "H8dmmI_T9gd8",
        "colab": {
          "base_uri": "https://localhost:8080/"
        },
        "outputId": "7744878c-af75-439f-e96a-9ae3bc95f17b"
      },
      "outputs": [
        {
          "output_type": "stream",
          "name": "stdout",
          "text": [
            "Conforms: True\n",
            "Validation Report\n",
            "Conforms: True\n",
            "\n"
          ]
        }
      ],
      "source": [
        "from rdflib import Graph\n",
        "from pyshacl import validate\n",
        "\n",
        "# RDF Data (Turtle format)\n",
        "data_ttl = \"\"\"\n",
        "@prefix ex: <http://example.org/> .\n",
        "ex:John a ex:Person ;\n",
        "    ex:hasAge 25 .\n",
        "\"\"\"\n",
        "\n",
        "# SHACL Shape with proper xsd prefix\n",
        "shapes_ttl = \"\"\"\n",
        "@prefix ex: <http://example.org/> .\n",
        "@prefix sh: <http://www.w3.org/ns/shacl#> .\n",
        "@prefix xsd: <http://www.w3.org/2001/XMLSchema#> .\n",
        "\n",
        "ex:PersonShape a sh:NodeShape ;\n",
        "    sh:targetClass ex:Person ;\n",
        "    sh:property [\n",
        "        sh:path ex:hasAge ;\n",
        "        sh:datatype xsd:integer ;\n",
        "    ] .\n",
        "\"\"\"\n",
        "\n",
        "# Parse graphs\n",
        "data_graph = Graph().parse(data=data_ttl, format='turtle')\n",
        "shapes_graph = Graph().parse(data=shapes_ttl, format='turtle')\n",
        "\n",
        "# Validate\n",
        "conforms, results_graph, results_text = validate(\n",
        "    data_graph=data_graph,\n",
        "    shacl_graph=shapes_graph,\n",
        "    inference='rdfs',\n",
        "    serialize_report_graph=True\n",
        ")\n",
        "\n",
        "# Output\n",
        "print(\"Conforms:\", conforms)\n",
        "print(results_text)\n"
      ]
    },
    {
      "cell_type": "markdown",
      "source": [],
      "metadata": {
        "id": "q8-NMSVj9xZA"
      }
    }
  ]
}