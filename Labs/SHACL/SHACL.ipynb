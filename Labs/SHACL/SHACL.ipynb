{
  "nbformat": 4,
  "nbformat_minor": 0,
  "metadata": {
    "colab": {
      "provenance": []
    },
    "kernelspec": {
      "name": "python3",
      "display_name": "Python 3"
    },
    "language_info": {
      "name": "python"
    }
  },
  "cells": [
    {
      "cell_type": "markdown",
      "source": [
        "Instalar dependencias"
      ],
      "metadata": {
        "id": "lAq6-n0mAdzU"
      }
    },
    {
      "cell_type": "code",
      "source": [
        "!pip install rdflib\n",
        "!pip install SPARQLWrapper\n",
        "!pip install pyshacl"
      ],
      "metadata": {
        "id": "KiLjBQGjAdhM"
      },
      "execution_count": null,
      "outputs": []
    },
    {
      "cell_type": "markdown",
      "source": [
        "Validar RDF usando SHACL"
      ],
      "metadata": {
        "id": "oR0LexHL9yri"
      }
    },
    {
      "cell_type": "code",
      "execution_count": null,
      "metadata": {
        "id": "H8dmmI_T9gd8"
      },
      "outputs": [],
      "source": [
        "from rdflib import Graph\n",
        "from pyshacl import validate\n",
        "\n",
        "# RDF Data (Turtle format)\n",
        "data_ttl = \"\"\"\n",
        "@prefix ex: <http://example.org/> .\n",
        "ex:John a ex:Person ;\n",
        "    ex:hasAge 25 .\n",
        "\"\"\"\n",
        "\n",
        "# SHACL Shape with proper xsd prefix\n",
        "shapes_ttl = \"\"\"\n",
        "@prefix ex: <http://example.org/> .\n",
        "@prefix sh: <http://www.w3.org/ns/shacl#> .\n",
        "@prefix xsd: <http://www.w3.org/2001/XMLSchema#> .\n",
        "\n",
        "ex:PersonShape a sh:NodeShape ;\n",
        "    sh:targetClass ex:Person ;\n",
        "    sh:property [\n",
        "        sh:path ex:hasAge ;\n",
        "        sh:datatype xsd:integer ;\n",
        "    ] .\n",
        "\"\"\"\n",
        "\n",
        "# Parse graphs\n",
        "data_graph = Graph().parse(data=data_ttl, format='turtle')\n",
        "shapes_graph = Graph().parse(data=shapes_ttl, format='turtle')\n",
        "\n",
        "# Validate\n",
        "conforms, results_graph, results_text = validate(\n",
        "    data_graph=data_graph,\n",
        "    shacl_graph=shapes_graph,\n",
        "    inference='rdfs',\n",
        "    serialize_report_graph=True\n",
        ")\n",
        "\n",
        "# Output\n",
        "print(\"Conforms:\", conforms)\n",
        "print(results_text)\n"
      ]
    },
    {
      "cell_type": "markdown",
      "source": [],
      "metadata": {
        "id": "q8-NMSVj9xZA"
      }
    }
  ]
}