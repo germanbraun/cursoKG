{
  "nbformat": 4,
  "nbformat_minor": 0,
  "metadata": {
    "colab": {
      "provenance": [],
      "authorship_tag": "ABX9TyOxSV5gWbrfrDXcrI988DX7",
      "include_colab_link": true
    },
    "kernelspec": {
      "name": "python3",
      "display_name": "Python 3"
    },
    "language_info": {
      "name": "python"
    }
  },
  "cells": [
    {
      "cell_type": "markdown",
      "metadata": {
        "id": "view-in-github",
        "colab_type": "text"
      },
      "source": [
        "<a href=\"https://colab.research.google.com/github/germanbraun/cursoKG/blob/main/Labs/RDFlib/APIToRDF.ipynb\" target=\"_parent\"><img src=\"https://colab.research.google.com/assets/colab-badge.svg\" alt=\"Open In Colab\"/></a>"
      ]
    },
    {
      "cell_type": "markdown",
      "source": [
        "Instalar dependencias"
      ],
      "metadata": {
        "id": "lAq6-n0mAdzU"
      }
    },
    {
      "cell_type": "code",
      "source": [
        "!pip install rdflib\n",
        "!pip install SPARQLWrapper\n",
        "!pip install requests"
      ],
      "metadata": {
        "id": "KiLjBQGjAdhM"
      },
      "execution_count": null,
      "outputs": []
    },
    {
      "cell_type": "markdown",
      "source": [
        "Importar py librerías"
      ],
      "metadata": {
        "id": "oR0LexHL9yri"
      }
    },
    {
      "cell_type": "code",
      "execution_count": 2,
      "metadata": {
        "id": "H8dmmI_T9gd8"
      },
      "outputs": [],
      "source": [
        "import urllib.parse\n",
        "import rdflib\n",
        "from rdflib import Graph, URIRef, Literal\n",
        "from rdflib.namespace import FOAF, RDF\n",
        "\n",
        "from SPARQLWrapper import SPARQLWrapper, BASIC, POST\n",
        "\n",
        "import requests\n",
        "import logging\n",
        "import json\n",
        "from json.encoder import JSONEncoder"
      ]
    },
    {
      "cell_type": "markdown",
      "source": [
        "Consultar una REST API y convertir a RDF"
      ],
      "metadata": {
        "id": "GhoCjTu4-Emu"
      }
    },
    {
      "cell_type": "code",
      "source": [
        "try:\n",
        "    result = requests.get(url = \"https://reqres.in/api/users\", timeout=2 )\n",
        "    import time\n",
        "    time.sleep(2)\n",
        "    if result.ok :\n",
        "        responseJSON = result.json()\n",
        "        print(responseJSON)\n",
        "        namedGraph = Graph()\n",
        "        namedGraph.bind(\"foaf\", FOAF)\n",
        "\n",
        "        # connect to GraphDB\n",
        "        #sparql = SPARQLWrapper(\"http://127.0.0.1:7200/repositories/curso-kg/statements\")\n",
        "        #sparql.setMethod(POST)\n",
        "\n",
        "        # create named graph\n",
        "        for entry in responseJSON['data']:\n",
        "            url_encode = urllib.parse.quote(str(entry['id']))\n",
        "            person = URIRef(f'http://example.org/people/{url_encode}')\n",
        "            firstName = Literal(entry['first_name'])\n",
        "            lastName = Literal(entry['last_name'])\n",
        "            mailbox = Literal(entry['email'])\n",
        "            thumbnail = Literal(entry['avatar'])\n",
        "\n",
        "            namedGraph.add((person, RDF.type, FOAF.Person))\n",
        "            namedGraph.add((person, FOAF.firstName, firstName))\n",
        "            namedGraph.add((person, FOAF.lastName, lastName))\n",
        "            namedGraph.add((person, FOAF.mbox, mailbox))\n",
        "            namedGraph.add((person, FOAF.thumbnail, thumbnail))\n",
        "\n",
        "            for s, p, o in namedGraph:\n",
        "                if o.__class__ == rdflib.term.Literal:\n",
        "                    query = f\"\"\"\n",
        "                        INSERT DATA {{\n",
        "                            GRAPH <http://example.org/toy/graph> {{\n",
        "                                <{s}> <{p}> \"{o}\"\n",
        "                            }}\n",
        "                        }}\n",
        "                    \"\"\"\n",
        "                else:\n",
        "                    query = f\"\"\"\n",
        "                        INSERT DATA {{\n",
        "                            GRAPH <http://example.org/toy/graph> {{\n",
        "                                <{s}> <{p}> <{o}>\n",
        "                            }}\n",
        "                        }}\n",
        "                \"\"\"\n",
        "                logging.info(query)\n",
        "                print(query)\n",
        "                #sparql.setQuery(query)\n",
        "                #sparql.query()\n",
        "        q = namedGraph.query(\"\"\"SELECT * WHERE { ?s ?p ?o }\"\"\")\n",
        "        for row in q:\n",
        "          print(f\"{row.s}\" f\"{row.p}\" f\"{row.o}\")\n",
        "\n",
        "    else:\n",
        "        Exception(\"Request returns empty\")\n",
        "\n",
        "except Exception as e:\n",
        "    logging.error(F\"Error when querying the API: {e}\")"
      ],
      "metadata": {
        "id": "3k1rybhzFOvw"
      },
      "execution_count": null,
      "outputs": []
    },
    {
      "cell_type": "markdown",
      "source": [],
      "metadata": {
        "id": "q8-NMSVj9xZA"
      }
    }
  ]
}